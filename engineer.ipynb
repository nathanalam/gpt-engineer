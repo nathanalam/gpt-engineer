{
 "cells": [
  {
   "cell_type": "code",
   "execution_count": null,
   "id": "405b5219",
   "metadata": {},
   "outputs": [],
   "source": [
    "!pip install typer"
   ]
  },
  {
   "cell_type": "code",
   "execution_count": null,
   "id": "442da1f4",
   "metadata": {},
   "outputs": [],
   "source": [
    "!pip install openai"
   ]
  },
  {
   "cell_type": "code",
   "execution_count": null,
   "id": "5d9ec29d",
   "metadata": {},
   "outputs": [],
   "source": [
    "from gpt_engineer.main import chat\n",
    "import os\n",
    "import pathlib\n",
    "import openai"
   ]
  },
  {
   "cell_type": "code",
   "execution_count": null,
   "id": "bf5767e6",
   "metadata": {},
   "outputs": [],
   "source": [
    "openai.api_key = os.environ['OPENAI_API_KEY']"
   ]
  },
  {
   "cell_type": "code",
   "execution_count": null,
   "id": "59955b22",
   "metadata": {},
   "outputs": [],
   "source": [
    "chat(\n",
    "    project_path=\"./example\",\n",
    "    run_prefix=\"\",\n",
    "    model=\"gpt-3.5-turbo\",\n",
    "    temperature=0.1,\n",
    "    steps_config=\"default\",\n",
    "    prompt=\"Can you make a Jupyter notebook that can import python functions from a Github repository?\"\n",
    ")"
   ]
  }
 ],
 "metadata": {
  "kernelspec": {
   "display_name": "Python 3 (ipykernel)",
   "language": "python",
   "name": "python3"
  },
  "language_info": {
   "codemirror_mode": {
    "name": "ipython",
    "version": 3
   },
   "file_extension": ".py",
   "mimetype": "text/x-python",
   "name": "python",
   "nbconvert_exporter": "python",
   "pygments_lexer": "ipython3",
   "version": "3.11.0"
  }
 },
 "nbformat": 4,
 "nbformat_minor": 5
}
